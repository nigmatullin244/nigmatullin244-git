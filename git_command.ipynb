{
 "cells": [
  {
   "cell_type": "code",
   "execution_count": null,
   "id": "a94c170f",
   "metadata": {},
   "outputs": [],
   "source": [
    "\"\"\"Команды Git.\"\"\""
   ]
  },
  {
   "cell_type": "markdown",
   "id": "93b8d7c3",
   "metadata": {},
   "source": [
    "## Основные команды\n",
    "\n",
    "### Создаем новый проект\n",
    "mkdir hexlet-git\n",
    "\n",
    "### Переходим в созданную директорию\n",
    "cd hexlet-git\n",
    "\n",
    "### Выполняем инициализацию\n",
    "git init\n",
    "\n",
    "Initialized empty Git repository in /private/tmp/hexlet-git/.git/"
   ]
  },
  {
   "cell_type": "markdown",
   "id": "d7bc0089",
   "metadata": {},
   "source": [
    "## С помощью команды git status можно посмотреть статус репозитория\n",
    "\n",
    "git status"
   ]
  },
  {
   "cell_type": "markdown",
   "id": "78aad792",
   "metadata": {},
   "source": [
    "## Давайте попробуем добавить несколько файлов:\n",
    "\n",
    "### Создаем файл README.md со строкой текста\n",
    "echo 'Hello, Hexlet!' > README.md\n",
    "echo 'Haskell Curry' > PEOPLE.md"
   ]
  },
  {
   "cell_type": "markdown",
   "id": "eee36ace",
   "metadata": {},
   "source": [
    "## Трекаем файлы\n",
    "\n",
    "git add README.md"
   ]
  },
  {
   "cell_type": "markdown",
   "id": "78460054",
   "metadata": {},
   "source": [
    "## Коммитим файлы\n",
    "\n",
    "git commit -m 'add README.md'"
   ]
  },
  {
   "cell_type": "markdown",
   "id": "7b993bbd",
   "metadata": {},
   "source": [
    "## Как добавить репозиторий\n",
    "\n",
    "1. Зарегистрируйтесь на GitHub и создайте ssh-ключи по инструкции. SSH-ключи — это наиболее безопасный способ работы с GitHub, поэтому важно разобраться с ними\n",
    "2. Создайте репозиторий на GitHub. Назовите его hexlet-git. Важно, чтобы репозиторий создавался пустым, поэтому не отмечайте галочки, добавляющие файлы\n",
    "3. На странице репозитория вы увидите готовые команды для подключения созданного репозитория на GitHub к уже существующему репозиторию у вас на компьютере"
   ]
  },
  {
   "cell_type": "markdown",
   "id": "90a56497",
   "metadata": {},
   "source": [
    "## Подробнее эти команды мы разберем позже\n",
    "Вам нужна ссылка для работы с репозиторием по SSH\n",
    "git remote add origin git@github.com:<ИМЯ НА ГИТХАБЕ>/hexlet-git.git\n",
    "git branch -M main\n",
    "git push -u origin main\n",
    "\n",
    "4. Обновите страницу с репозиторием на GitHub. Изучите ее интерфейс и содержимое репозитория. Обратите внимание, что директория .git отсутствует. Почему это так, мы узнаем в одном из следующих уроков"
   ]
  },
  {
   "cell_type": "markdown",
   "id": "688de453",
   "metadata": {},
   "source": [
    "## Команда git push отправляет изменения во вновь созданный репозиторий"
   ]
  },
  {
   "cell_type": "markdown",
   "id": "475cf76e",
   "metadata": {},
   "source": [
    "## Как клонировать репозиторий\n",
    "\n",
    "git clone git@github.com:<ИМЯ НА ГИТХАБЕ>/hexlet-git.git\n",
    "cd hexlet-git\n",
    "ls -la\n",
    "\n",
    "Если эта операция проходит первый раз,\n",
    "То вы можете увидеть такое подобное сообщение\n",
    "The authenticity of host github.com cannot be established. RSA key fingerprint is SHA256: хххххххххх Are you sure you want to continue connecting (yes/no/[fingerprint])? yes Warning: Permanently added github.com (RSA) to the list of known hosts.\n",
    "Наберите yes и нажмите Enter\n"
   ]
  },
  {
   "cell_type": "markdown",
   "id": "40ccf605",
   "metadata": {},
   "source": [
    "## Как получить изменения с GitHub\n",
    "\n",
    "В таком случае, перед началом работы нужно всегда выполнять команду git pull --rebase, которая скачивает из внешнего репозитория новые коммиты и добавляет их в локальный репозиторий.\n",
    "\n",
    "Считается, что достаточно вызывать git pull, но это может приводить к созданию ненужных коммитов, из-за которых становится сложнее следить за историей изменений.\n",
    "\n",
    "Правильная работа с git pull требует знания таких вещей, как ветвление и git rebase. Они довольно сложны для новичков, поэтому мы рассмотрим их позже, когда появится хоть какой-то опыт работы с Git."
   ]
  },
  {
   "cell_type": "markdown",
   "id": "7a98ac49",
   "metadata": {},
   "source": [
    "## Рабочая директория\n",
    "\n",
    "rm PEOPLE.md - удалить файл из РД\n",
    "далее трекаем и коммитим\n"
   ]
  }
 ],
 "metadata": {
  "language_info": {
   "name": "python"
  }
 },
 "nbformat": 4,
 "nbformat_minor": 5
}
